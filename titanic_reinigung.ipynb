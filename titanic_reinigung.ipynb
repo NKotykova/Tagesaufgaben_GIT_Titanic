{
 "cells": [
  {
   "cell_type": "code",
   "execution_count": 1,
   "id": "db535364",
   "metadata": {},
   "outputs": [],
   "source": [
    "import pandas as pd\n",
    "\n",
    "\n",
    "\n",
    "read_datei = pd.read_csv(\"titanic.csv\")\n",
    "\n",
    "\n",
    "sauber_datei = read_datei.dropna()\n",
    "\n",
    "\n",
    "sauber_datei.to_csv(\"ohne_fehlende_werte.csv\", index=False)"
   ]
  }
 ],
 "metadata": {
  "kernelspec": {
   "display_name": "base",
   "language": "python",
   "name": "python3"
  },
  "language_info": {
   "codemirror_mode": {
    "name": "ipython",
    "version": 3
   },
   "file_extension": ".py",
   "mimetype": "text/x-python",
   "name": "python",
   "nbconvert_exporter": "python",
   "pygments_lexer": "ipython3",
   "version": "3.12.3"
  }
 },
 "nbformat": 4,
 "nbformat_minor": 5
}
